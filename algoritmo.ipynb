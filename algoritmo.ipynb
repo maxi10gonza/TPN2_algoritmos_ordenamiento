{
 "cells": [
  {
   "cell_type": "markdown",
   "id": "7c5a0352",
   "metadata": {},
   "source": [
    "# Algoritmos de Ordenamiento: Insertion Sort y Bubble Sort\n",
    "## Insertion Sort - Paso a paso\n",
    "\n",
    "El algoritmo de ordenamiento por inserción funciona como si organizáramos cartas en la mano:\n",
    "\n",
    "1. Comenzamos con el segundo elemento del arreglo, asumiendo que el primero ya está \"ordenado\".\n",
    "2. Comparamos ese elemento con los anteriores y lo insertamos en la posición correcta.\n",
    "3. Repetimos el proceso con cada nuevo elemento, desplazando los elementos mayores hacia la derecha.\n",
    "4. Al final, todos los elementos están en orden.\n",
    "\n",
    "### Ejemplo\n",
    "Lista inicial: [5, 3, 4, 1]\n",
    "\n",
    "- Comenzamos con el 3. Lo comparamos con el 5. Como 3 < 5, lo insertamos antes: [3, 5, 4, 1]\n",
    "- Luego el 4. Lo comparamos con 5 → lo insertamos antes: [3, 4, 5, 1]\n",
    "- Finalmente el 1. Lo insertamos al principio: [1, 3, 4, 5]"
   ]
  },
  {
   "cell_type": "code",
   "execution_count": 1,
   "id": "de522a53",
   "metadata": {},
   "outputs": [
    {
     "name": "stdout",
     "output_type": "stream",
     "text": [
      "Lista original: [5, 3, 4, 1]\n",
      "Ordenada con Insertion Sort: [1, 3, 4, 5]\n"
     ]
    }
   ],
   "source": [
    "def insertion_sort(arr):\n",
    "    for i in range(1, len(arr)):\n",
    "        actual = arr[i]\n",
    "        j = i - 1\n",
    "        while j >= 0 and arr[j] > actual:\n",
    "            arr[j + 1] = arr[j]\n",
    "            j -= 1\n",
    "        arr[j + 1] = actual\n",
    "    return arr\n",
    "\n",
    "# Ejemplo\n",
    "lista = [5, 3, 4, 1]\n",
    "print(\"Lista original:\", lista)\n",
    "print(\"Ordenada con Insertion Sort:\", insertion_sort(lista.copy()))\n"
   ]
  },
  {
   "cell_type": "markdown",
   "id": "4fa70e30",
   "metadata": {},
   "source": [
    "## Bubble Sort - Paso a paso\n",
    "\n",
    "Bubble Sort compara elementos adyacentes y los intercambia si están en el orden incorrecto.\n",
    "\n",
    "1. Recorremos el arreglo varias veces.\n",
    "2. En cada pasada, los elementos mayores \"burbujearán\" hacia el final.\n",
    "3. El proceso se repite hasta que no se realicen más intercambios.\n",
    "\n",
    "### Ejemplo\n",
    "Lista inicial: [5, 3, 4, 1]\n",
    "\n",
    "- Primera pasada: [3, 4, 1, 5]\n",
    "- Segunda pasada: [3, 1, 4, 5]\n",
    "- Tercera pasada: [1, 3, 4, 5]\n"
   ]
  },
  {
   "cell_type": "code",
   "execution_count": null,
   "id": "83928861",
   "metadata": {},
   "outputs": [],
   "source": [
    "def bubble_sort(arr):\n",
    "    n = len(arr)\n",
    "    for i in range(n):\n",
    "        intercambiado = False\n",
    "        for j in range(0, n-i-1):\n",
    "            if arr[j] > arr[j + 1]:\n",
    "                arr[j], arr[j + 1] = arr[j + 1], arr[j]\n",
    "                intercambiado = True\n",
    "        if not intercambiado:\n",
    "            break\n",
    "    return arr\n",
    "\n",
    "# Ejemplo\n",
    "lista = [5, 3, 4, 1]\n",
    "print(\"Lista original:\", lista)\n",
    "print(\"Ordenada con Bubble Sort:\", bubble_sort(lista.copy()))\n"
   ]
  }
 ],
 "metadata": {
  "kernelspec": {
   "display_name": "Python 3",
   "language": "python",
   "name": "python3"
  },
  "language_info": {
   "codemirror_mode": {
    "name": "ipython",
    "version": 3
   },
   "file_extension": ".py",
   "mimetype": "text/x-python",
   "name": "python",
   "nbconvert_exporter": "python",
   "pygments_lexer": "ipython3",
   "version": "3.12.9"
  }
 },
 "nbformat": 4,
 "nbformat_minor": 5
}
